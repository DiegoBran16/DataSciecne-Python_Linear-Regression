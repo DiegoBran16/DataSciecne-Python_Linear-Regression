{
 "cells": [
  {
   "cell_type": "markdown",
   "id": "64b21559-9dfc-4a27-84c1-ef0032e5ab5a",
   "metadata": {},
   "source": [
    "# Universidad Galielo\n",
    "## Ciencias de datos en Python \n",
    "### 17 de marzo del 2024 \n",
    "#### ***Diego Fernando Bran Arriola Carnet 24003821***"
   ]
  },
  {
   "cell_type": "markdown",
   "id": "99fd5e9a-b370-4b0b-8137-0449f6d9869b",
   "metadata": {},
   "source": [
    "# Proyecto No.1 "
   ]
  },
  {
   "cell_type": "markdown",
   "id": "83aa84a3-faf1-4de0-ab6b-d1b1b8334d26",
   "metadata": {},
   "source": [
    "1. Importar los datos del dataset "
   ]
  },
  {
   "cell_type": "code",
   "execution_count": 1,
   "id": "9ca96900-77b5-438c-a28f-9a122a22ed7b",
   "metadata": {},
   "outputs": [],
   "source": [
    "import numpy as np #importamos numpy\n",
    "np.set_printoptions(suppress=True) #modificamos las opciónes de impresión para evitar na notación exponencial y visualizar los datos de mejor manera"
   ]
  },
  {
   "cell_type": "code",
   "execution_count": 2,
   "id": "906adee1-71f5-48e4-9b14-308a8a5bad9b",
   "metadata": {},
   "outputs": [],
   "source": [
    "data = np.load('proyecto_data/proyecto_training_data.npy') #importamos el dataset "
   ]
  },
  {
   "cell_type": "code",
   "execution_count": 3,
   "id": "b4f24833-092b-497a-8026-d7081f1aee73",
   "metadata": {},
   "outputs": [
    {
     "data": {
      "text/plain": [
       "1460"
      ]
     },
     "execution_count": 3,
     "metadata": {},
     "output_type": "execute_result"
    }
   ],
   "source": [
    "total_size= len(data) #obtenemos el tamaño del dataset  \n",
    "total_size"
   ]
  },
  {
   "cell_type": "markdown",
   "id": "ce3a6bf0-ed9d-4bb6-a51b-1658130bef97",
   "metadata": {},
   "source": [
    "2. segmentando el dataset en test y train "
   ]
  },
  {
   "cell_type": "code",
   "execution_count": 4,
   "id": "390800c4-9de3-4970-bc15-ff6ef4707468",
   "metadata": {},
   "outputs": [
    {
     "name": "stdout",
     "output_type": "stream",
     "text": [
      "Proporción del set para train 80.0%\n",
      "Proporción del set para test 20.0%\n"
     ]
    }
   ],
   "source": [
    "eighty_percent_index =int(total_size*0.8)\n",
    "train = data[0:eighty_percent_index]\n",
    "test = data[eighty_percent_index:]\n",
    "\n",
    "print(f'Proporción del set para train {(len(train)/total_size)*100}%')\n",
    "print(f'Proporción del set para test {(len(test)/total_size)*100}%')\n"
   ]
  },
  {
   "cell_type": "code",
   "execution_count": 5,
   "id": "74807dc3-8984-4923-8fbb-0c620cda1e79",
   "metadata": {},
   "outputs": [],
   "source": [
    "import pandas as pd"
   ]
  },
  {
   "cell_type": "code",
   "execution_count": 6,
   "id": "0e101e6d-83da-4e29-8b0f-bb802878f7e5",
   "metadata": {},
   "outputs": [],
   "source": [
    "data_pd = pd.DataFrame(data)"
   ]
  },
  {
   "cell_type": "code",
   "execution_count": 7,
   "id": "15fb6052-f6cc-4ab1-88fd-984e86b7231c",
   "metadata": {},
   "outputs": [],
   "source": [
    "data_pd=data_pd.rename(columns={ 0: 'SalePrice', 1: 'OverallQual', 2: '1stFlrSF', 3:'TotRmsAbvGrd', 4:'YearBuilt', 5:'LotFrontage' })\n",
    "data_pd.index = data_pd.index +1\n",
    "\n",
    "\n"
   ]
  },
  {
   "cell_type": "code",
   "execution_count": 8,
   "id": "e808a04a-0722-4c9f-89e3-aac1de47bf04",
   "metadata": {},
   "outputs": [
    {
     "data": {
      "text/html": [
       "<div>\n",
       "<style scoped>\n",
       "    .dataframe tbody tr th:only-of-type {\n",
       "        vertical-align: middle;\n",
       "    }\n",
       "\n",
       "    .dataframe tbody tr th {\n",
       "        vertical-align: top;\n",
       "    }\n",
       "\n",
       "    .dataframe thead th {\n",
       "        text-align: right;\n",
       "    }\n",
       "</style>\n",
       "<table border=\"1\" class=\"dataframe\">\n",
       "  <thead>\n",
       "    <tr style=\"text-align: right;\">\n",
       "      <th></th>\n",
       "      <th>SalePrice</th>\n",
       "      <th>OverallQual</th>\n",
       "      <th>1stFlrSF</th>\n",
       "      <th>TotRmsAbvGrd</th>\n",
       "      <th>YearBuilt</th>\n",
       "      <th>LotFrontage</th>\n",
       "    </tr>\n",
       "  </thead>\n",
       "  <tbody>\n",
       "    <tr>\n",
       "      <th>1</th>\n",
       "      <td>208500.0</td>\n",
       "      <td>7.0</td>\n",
       "      <td>856.0</td>\n",
       "      <td>8.0</td>\n",
       "      <td>2003.0</td>\n",
       "      <td>65.0</td>\n",
       "    </tr>\n",
       "    <tr>\n",
       "      <th>2</th>\n",
       "      <td>181500.0</td>\n",
       "      <td>6.0</td>\n",
       "      <td>1262.0</td>\n",
       "      <td>6.0</td>\n",
       "      <td>1976.0</td>\n",
       "      <td>80.0</td>\n",
       "    </tr>\n",
       "    <tr>\n",
       "      <th>3</th>\n",
       "      <td>223500.0</td>\n",
       "      <td>7.0</td>\n",
       "      <td>920.0</td>\n",
       "      <td>6.0</td>\n",
       "      <td>2001.0</td>\n",
       "      <td>68.0</td>\n",
       "    </tr>\n",
       "    <tr>\n",
       "      <th>4</th>\n",
       "      <td>140000.0</td>\n",
       "      <td>7.0</td>\n",
       "      <td>961.0</td>\n",
       "      <td>7.0</td>\n",
       "      <td>1915.0</td>\n",
       "      <td>60.0</td>\n",
       "    </tr>\n",
       "    <tr>\n",
       "      <th>5</th>\n",
       "      <td>250000.0</td>\n",
       "      <td>8.0</td>\n",
       "      <td>1145.0</td>\n",
       "      <td>9.0</td>\n",
       "      <td>2000.0</td>\n",
       "      <td>84.0</td>\n",
       "    </tr>\n",
       "    <tr>\n",
       "      <th>...</th>\n",
       "      <td>...</td>\n",
       "      <td>...</td>\n",
       "      <td>...</td>\n",
       "      <td>...</td>\n",
       "      <td>...</td>\n",
       "      <td>...</td>\n",
       "    </tr>\n",
       "    <tr>\n",
       "      <th>1456</th>\n",
       "      <td>175000.0</td>\n",
       "      <td>6.0</td>\n",
       "      <td>953.0</td>\n",
       "      <td>7.0</td>\n",
       "      <td>1999.0</td>\n",
       "      <td>62.0</td>\n",
       "    </tr>\n",
       "    <tr>\n",
       "      <th>1457</th>\n",
       "      <td>210000.0</td>\n",
       "      <td>6.0</td>\n",
       "      <td>2073.0</td>\n",
       "      <td>7.0</td>\n",
       "      <td>1978.0</td>\n",
       "      <td>85.0</td>\n",
       "    </tr>\n",
       "    <tr>\n",
       "      <th>1458</th>\n",
       "      <td>266500.0</td>\n",
       "      <td>7.0</td>\n",
       "      <td>1188.0</td>\n",
       "      <td>9.0</td>\n",
       "      <td>1941.0</td>\n",
       "      <td>66.0</td>\n",
       "    </tr>\n",
       "    <tr>\n",
       "      <th>1459</th>\n",
       "      <td>142125.0</td>\n",
       "      <td>5.0</td>\n",
       "      <td>1078.0</td>\n",
       "      <td>5.0</td>\n",
       "      <td>1950.0</td>\n",
       "      <td>68.0</td>\n",
       "    </tr>\n",
       "    <tr>\n",
       "      <th>1460</th>\n",
       "      <td>147500.0</td>\n",
       "      <td>5.0</td>\n",
       "      <td>1256.0</td>\n",
       "      <td>6.0</td>\n",
       "      <td>1965.0</td>\n",
       "      <td>75.0</td>\n",
       "    </tr>\n",
       "  </tbody>\n",
       "</table>\n",
       "<p>1460 rows × 6 columns</p>\n",
       "</div>"
      ],
      "text/plain": [
       "      SalePrice  OverallQual  1stFlrSF  TotRmsAbvGrd  YearBuilt  LotFrontage\n",
       "1      208500.0          7.0     856.0           8.0     2003.0         65.0\n",
       "2      181500.0          6.0    1262.0           6.0     1976.0         80.0\n",
       "3      223500.0          7.0     920.0           6.0     2001.0         68.0\n",
       "4      140000.0          7.0     961.0           7.0     1915.0         60.0\n",
       "5      250000.0          8.0    1145.0           9.0     2000.0         84.0\n",
       "...         ...          ...       ...           ...        ...          ...\n",
       "1456   175000.0          6.0     953.0           7.0     1999.0         62.0\n",
       "1457   210000.0          6.0    2073.0           7.0     1978.0         85.0\n",
       "1458   266500.0          7.0    1188.0           9.0     1941.0         66.0\n",
       "1459   142125.0          5.0    1078.0           5.0     1950.0         68.0\n",
       "1460   147500.0          5.0    1256.0           6.0     1965.0         75.0\n",
       "\n",
       "[1460 rows x 6 columns]"
      ]
     },
     "execution_count": 8,
     "metadata": {},
     "output_type": "execute_result"
    }
   ],
   "source": [
    "data_pd"
   ]
  },
  {
   "cell_type": "markdown",
   "id": "2ea85aec-6b45-49f5-a9c1-08123c6d1b6b",
   "metadata": {},
   "source": [
    "3. Análisis exploratorio de datos"
   ]
  },
  {
   "cell_type": "code",
   "execution_count": 9,
   "id": "2e693939-3427-4098-b5de-163cb69881ec",
   "metadata": {},
   "outputs": [
    {
     "name": "stdout",
     "output_type": "stream",
     "text": [
      "A continuación se resume el valor de la media por cada veriable\n",
      "\n",
      "La media de la variable SalePrice es 180921.196\n",
      "La media de la variable OverallQual es 6.099\n",
      "La media de la variable 1stFlrSF es 1162.627\n",
      "La media de la variable TotRmsAbvGrd es 6.518\n",
      "La media de la variable YearBuilt es 1971.268\n",
      "La media de la variable LotFrontage es 70.05\n"
     ]
    }
   ],
   "source": [
    "print('A continuación se resume el valor de la media por cada veriable\\n')\n",
    "\n",
    "means = [data_pd[col].mean() for col in data_pd.columns]\n",
    "\n",
    "for i in range(len(means)):\n",
    "        \n",
    "    print(f'La media de la variable {data_pd.columns[i]} es {round(means[i],3)}')\n"
   ]
  },
  {
   "cell_type": "code",
   "execution_count": 10,
   "id": "75cb9ba4-5a99-475a-b649-f5513037c869",
   "metadata": {},
   "outputs": [
    {
     "name": "stdout",
     "output_type": "stream",
     "text": [
      "A continuación se resume el valor máximo de cada veriable\n",
      "\n",
      "El valor máximo variable SalePrice es 755000.0\n",
      "El valor máximo variable OverallQual es 10.0\n",
      "El valor máximo variable 1stFlrSF es 4692.0\n",
      "El valor máximo variable TotRmsAbvGrd es 14.0\n",
      "El valor máximo variable YearBuilt es 2010.0\n",
      "El valor máximo variable LotFrontage es 313.0\n"
     ]
    }
   ],
   "source": [
    "print('A continuación se resume el valor máximo de cada veriable\\n')\n",
    "\n",
    "max_value = [data_pd[col].max() for col in data_pd.columns]\n",
    "\n",
    "for i in range(len(max_value)):\n",
    "        \n",
    "    print(f'El valor máximo variable {data_pd.columns[i]} es {max_value[i]}')"
   ]
  },
  {
   "cell_type": "code",
   "execution_count": 11,
   "id": "07894a79-3c86-40b3-a900-2a8138254b7b",
   "metadata": {},
   "outputs": [
    {
     "name": "stdout",
     "output_type": "stream",
     "text": [
      "A continuación se resume el valor mínimo de cada veriable\n",
      "\n",
      "El valor mínimo variable SalePrice es 34900.0\n",
      "El valor mínimo variable OverallQual es 1.0\n",
      "El valor mínimo variable 1stFlrSF es 334.0\n",
      "El valor mínimo variable TotRmsAbvGrd es 2.0\n",
      "El valor mínimo variable YearBuilt es 1872.0\n",
      "El valor mínimo variable LotFrontage es 21.0\n"
     ]
    }
   ],
   "source": [
    "print('A continuación se resume el valor mínimo de cada veriable\\n')\n",
    "\n",
    "min_value = [data_pd[col].min() for col in data_pd.columns]\n",
    "\n",
    "for i in range(len(min_value)):\n",
    "        \n",
    "    print(f'El valor mínimo variable {data_pd.columns[i]} es {min_value[i]}')"
   ]
  },
  {
   "cell_type": "code",
   "execution_count": 12,
   "id": "f00333c7-cef0-4bfa-9ec2-8a16e7d286f8",
   "metadata": {},
   "outputs": [
    {
     "name": "stdout",
     "output_type": "stream",
     "text": [
      "A continuación se resume el rango de cada veriable\n",
      "\n",
      "El rango de la  variable SalePrice es de 34900.0 a 755000.0\n",
      "El rango de la  variable OverallQual es de 1.0 a 10.0\n",
      "El rango de la  variable 1stFlrSF es de 334.0 a 4692.0\n",
      "El rango de la  variable TotRmsAbvGrd es de 2.0 a 14.0\n",
      "El rango de la  variable YearBuilt es de 1872.0 a 2010.0\n",
      "El rango de la  variable LotFrontage es de 21.0 a 313.0\n"
     ]
    }
   ],
   "source": [
    "print('A continuación se resume el rango de cada veriable\\n')\n",
    "\n",
    "\n",
    "for i in range(len(data_pd.columns)):\n",
    "        \n",
    "    print(f'El rango de la  variable {data_pd.columns[i]} es de {min_value[i]} a {max_value[i]}')"
   ]
  },
  {
   "cell_type": "markdown",
   "id": "ed16403f-b3ee-43b7-b0a2-1763b4c52e92",
   "metadata": {},
   "source": [
    "4. Histograma de cada variable utilizando seaborn"
   ]
  },
  {
   "cell_type": "code",
   "execution_count": 15,
   "id": "b2dc1367-bb54-4925-8e27-0b2ebc7dc223",
   "metadata": {},
   "outputs": [],
   "source": [
    "import seaborn as sns\n",
    "import matplotlib.pyplot as plt"
   ]
  },
  {
   "cell_type": "code",
   "execution_count": 26,
   "id": "4659b60d-7507-47c0-ba5e-341a8043c98e",
   "metadata": {},
   "outputs": [
    {
     "data": {
      "image/png": "[encoded data removed]",
      "text/plain": [
       "<Figure size 432x288 with 1 Axes>"
      ]
     },
     "metadata": {},
     "output_type": "display_data"
    },
    {
     "data": {
      "image/png": "[encoded data removed]",
      "text/plain": [
       "<Figure size 432x288 with 1 Axes>"
      ]
     },
     "metadata": {},
     "output_type": "display_data"
    },
    {
     "data": {
      "image/png": "[encoded data removed]",
      "text/plain": [
       "<Figure size 432x288 with 1 Axes>"
      ]
     },
     "metadata": {},
     "output_type": "display_data"
    },
    {
     "data": {
      "image/png": "[encoded data removed]",
      "text/plain": [
       "<Figure size 432x288 with 1 Axes>"
      ]
     },
     "metadata": {},
     "output_type": "display_data"
    },
    {
     "data": {
      "image/png": "[encoded data removed]",
      "text/plain": [
       "<Figure size 432x288 with 1 Axes>"
      ]
     },
     "metadata": {},
     "output_type": "display_data"
    },
    {
     "data": {
      "image/png": "[encoded data removed]",
      "text/plain": [
       "<Figure size 432x288 with 1 Axes>"
      ]
     },
     "metadata": {},
     "output_type": "display_data"
    }
   ],
   "source": [
    "sns.set(style=\"darkgrid\")\n",
    "for col in data_pd.columns:\n",
    "    sns.histplot(data=data_pd, x=col)\n",
    "    plt.show()"
   ]
  },
  {
   "cell_type": "markdown",
   "id": "768988c3-c7ff-495e-bb3e-4ec4fee8df85",
   "metadata": {},
   "source": [
    "5. correlacion de las variables dependientes con la independiente"
   ]
  },
  {
   "cell_type": "code",
   "execution_count": null,
   "id": "4828097a-744f-4e06-881c-ea8e64dc3bd3",
   "metadata": {},
   "outputs": [],
   "source": [
    "lista_textos_correlación['correlación entre el Precio y la calidad general de los mariales de la casa', \n",
    "                         'correlación entre el Precio y las dimensiones del primer piso',\n",
    "                         'correlación entre el Precio y el total de habitaciones por encima del nivel del suelo',\n",
    "                         'Correlación entre el Precio y el año de construcción',\n",
    "                         '']"
   ]
  }
 ],
 "metadata": {
  "kernelspec": {
   "display_name": "Python 3 (ipykernel)",
   "language": "python",
   "name": "python3"
  },
  "language_info": {
   "codemirror_mode": {
    "name": "ipython",
    "version": 3
   },
   "file_extension": ".py",
   "mimetype": "text/x-python",
   "name": "python",
   "nbconvert_exporter": "python",
   "pygments_lexer": "ipython3",
   "version": "3.9.7"
  }
 },
 "nbformat": 4,
 "nbformat_minor": 5
}
