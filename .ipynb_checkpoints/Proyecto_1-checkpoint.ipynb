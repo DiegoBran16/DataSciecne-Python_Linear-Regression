{
 "cells": [
  {
   "cell_type": "markdown",
   "id": "64b21559-9dfc-4a27-84c1-ef0032e5ab5a",
   "metadata": {},
   "source": [
    "# Universidad Galielo\n",
    "## Ciencias de datos en Python \n",
    "### 17 de marzo del 2024 \n",
    "#### ***Diego Fernando Bran Arriola Carnet 24003821***"
   ]
  },
  {
   "cell_type": "markdown",
   "id": "99fd5e9a-b370-4b0b-8137-0449f6d9869b",
   "metadata": {},
   "source": [
    "# Proyecto No.1 "
   ]
  },
  {
   "cell_type": "markdown",
   "id": "83aa84a3-faf1-4de0-ab6b-d1b1b8334d26",
   "metadata": {},
   "source": [
    "1. Importar los datos del dataset "
   ]
  },
  {
   "cell_type": "code",
   "execution_count": null,
   "id": "9ca96900-77b5-438c-a28f-9a122a22ed7b",
   "metadata": {},
   "outputs": [],
   "source": [
    "import numpy as np #importamos numpy\n",
    "np.set_printoptions(suppress=True) #modificamos las opciónes de impresión para evitar na notación exponencial y visualizar los datos de mejor manera"
   ]
  },
  {
   "cell_type": "code",
   "execution_count": null,
   "id": "906adee1-71f5-48e4-9b14-308a8a5bad9b",
   "metadata": {},
   "outputs": [],
   "source": [
    "data = np.load('proyecto_data/proyecto_training_data.npy') #importamos el dataset "
   ]
  },
  {
   "cell_type": "code",
   "execution_count": null,
   "id": "b4f24833-092b-497a-8026-d7081f1aee73",
   "metadata": {},
   "outputs": [],
   "source": [
    "total_size= len(data) #obtenemos el tamaño del dataset  \n",
    "total_size"
   ]
  },
  {
   "cell_type": "markdown",
   "id": "ce3a6bf0-ed9d-4bb6-a51b-1658130bef97",
   "metadata": {},
   "source": [
    "2. segmentando el dataset en test y train "
   ]
  },
  {
   "cell_type": "code",
   "execution_count": null,
   "id": "390800c4-9de3-4970-bc15-ff6ef4707468",
   "metadata": {},
   "outputs": [],
   "source": [
    "eighty_percent_index =int(total_size*0.8)\n",
    "train = data[0:eighty_percent_index]\n",
    "test = data[eighty_percent_index:]\n",
    "\n",
    "print(f'Proporción del set para train {(len(train)/total_size)*100}%')\n",
    "print(f'Proporción del set para test {(len(test)/total_size)*100}%')\n"
   ]
  },
  {
   "cell_type": "code",
   "execution_count": null,
   "id": "74807dc3-8984-4923-8fbb-0c620cda1e79",
   "metadata": {},
   "outputs": [],
   "source": [
    "import pandas as pd"
   ]
  },
  {
   "cell_type": "code",
   "execution_count": null,
   "id": "0e101e6d-83da-4e29-8b0f-bb802878f7e5",
   "metadata": {},
   "outputs": [],
   "source": [
    "data_pd = pd.DataFrame(data)"
   ]
  },
  {
   "cell_type": "code",
   "execution_count": null,
   "id": "15fb6052-f6cc-4ab1-88fd-984e86b7231c",
   "metadata": {},
   "outputs": [],
   "source": [
    "data_pd=data_pd.rename(columns={ 0: 'SalePrice', 1: 'OverallQual', 2: '1stFlrSF', 3:'TotRmsAbvGrd', 4:'YearBuilt', 5:'LotFrontage' })\n",
    "data_pd.index = data_pd.index +1\n",
    "\n",
    "\n"
   ]
  },
  {
   "cell_type": "code",
   "execution_count": null,
   "id": "e808a04a-0722-4c9f-89e3-aac1de47bf04",
   "metadata": {},
   "outputs": [],
   "source": [
    "data_pd"
   ]
  },
  {
   "cell_type": "markdown",
   "id": "2ea85aec-6b45-49f5-a9c1-08123c6d1b6b",
   "metadata": {},
   "source": [
    "3. Análisis exploratorio de datos"
   ]
  },
  {
   "cell_type": "code",
   "execution_count": null,
   "id": "2e693939-3427-4098-b5de-163cb69881ec",
   "metadata": {},
   "outputs": [],
   "source": [
    "print('A continuación se resume el valor de la media por cada veriable\\n')\n",
    "\n",
    "means = [data_pd[col].mean() for col in data_pd.columns]\n",
    "\n",
    "for i in range(len(means)):\n",
    "        \n",
    "    print(f'La media de la variable {data_pd.columns[i]} es {round(means[i],3)}')\n"
   ]
  },
  {
   "cell_type": "code",
   "execution_count": null,
   "id": "75cb9ba4-5a99-475a-b649-f5513037c869",
   "metadata": {},
   "outputs": [],
   "source": [
    "print('A continuación se resume el valor máximo de cada veriable\\n')\n",
    "\n",
    "max_value = [data_pd[col].max() for col in data_pd.columns]\n",
    "\n",
    "for i in range(len(max_value)):\n",
    "        \n",
    "    print(f'El valor máximo variable {data_pd.columns[i]} es {max_value[i]}')"
   ]
  },
  {
   "cell_type": "code",
   "execution_count": null,
   "id": "07894a79-3c86-40b3-a900-2a8138254b7b",
   "metadata": {},
   "outputs": [],
   "source": [
    "print('A continuación se resume el valor mínimo de cada veriable\\n')\n",
    "\n",
    "min_value = [data_pd[col].min() for col in data_pd.columns]\n",
    "\n",
    "for i in range(len(min_value)):\n",
    "        \n",
    "    print(f'El valor mínimo variable {data_pd.columns[i]} es {min_value[i]}')"
   ]
  },
  {
   "cell_type": "code",
   "execution_count": null,
   "id": "f00333c7-cef0-4bfa-9ec2-8a16e7d286f8",
   "metadata": {},
   "outputs": [],
   "source": [
    "print('A continuación se resume el rango de cada veriable\\n')\n",
    "\n",
    "\n",
    "for i in range(len(data_pd.columns)):\n",
    "        \n",
    "    print(f'El rango de la  variable {data_pd.columns[i]} es de {min_value[i]} a {max_value[i]}')"
   ]
  },
  {
   "cell_type": "code",
   "execution_count": null,
   "id": "bc9d2e42-1874-4f9f-9020-4473e068d722",
   "metadata": {},
   "outputs": [],
   "source": []
  }
 ],
 "metadata": {
  "kernelspec": {
   "display_name": "Python 3 (ipykernel)",
   "language": "python",
   "name": "python3"
  },
  "language_info": {
   "codemirror_mode": {
    "name": "ipython",
    "version": 3
   },
   "file_extension": ".py",
   "mimetype": "text/x-python",
   "name": "python",
   "nbconvert_exporter": "python",
   "pygments_lexer": "ipython3",
   "version": "3.9.7"
  }
 },
 "nbformat": 4,
 "nbformat_minor": 5
}
